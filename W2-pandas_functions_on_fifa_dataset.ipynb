{
 "cells": [
  {
   "cell_type": "markdown",
   "id": "698fa38b",
   "metadata": {},
   "source": [
    "\n",
    "\n",
    "# 30 Very Useful Pandas Functions for Everyday Data Analysis Tasks\n",
    "\n"
   ]
  },
  {
   "cell_type": "code",
   "execution_count": null,
   "id": "e3dbcaca",
   "metadata": {},
   "outputs": [],
   "source": [
    "import numpy as np\n",
    "import pandas as pd"
   ]
  },
  {
   "cell_type": "markdown",
   "id": "41b9b2cd",
   "metadata": {},
   "source": [
    "## 1. pd.read_csv, pd.read_excel\n",
    "\n",
    "- The first function to mention is read_csv or read_excel.\n",
    "- They are used to read a CSV or an excel file to a pandas DataFrame format. \n",
    "- Here I am using the read_csv function to read the FIFA dataset:"
   ]
  },
  {
   "cell_type": "code",
   "execution_count": null,
   "id": "9da5df0f",
   "metadata": {},
   "outputs": [],
   "source": [
    "df = pd.read_csv(\"fifa.csv\")\n",
    "df"
   ]
  },
  {
   "cell_type": "code",
   "execution_count": null,
   "id": "41dae4b3",
   "metadata": {},
   "outputs": [],
   "source": [
    "df.head().T"
   ]
  },
  {
   "cell_type": "code",
   "execution_count": null,
   "id": "a40103db",
   "metadata": {},
   "outputs": [],
   "source": [
    "df.tail()"
   ]
  },
  {
   "cell_type": "code",
   "execution_count": null,
   "id": "36954b3e",
   "metadata": {},
   "outputs": [],
   "source": [
    "df.sample(3)"
   ]
  },
  {
   "cell_type": "code",
   "execution_count": null,
   "id": "d627feb8",
   "metadata": {},
   "outputs": [],
   "source": [
    "df_excel = pd.read_excel(\"Automobile_data_1.xlsx\")\n",
    "df_excel"
   ]
  },
  {
   "cell_type": "code",
   "execution_count": null,
   "id": "962858d9",
   "metadata": {},
   "outputs": [],
   "source": []
  },
  {
   "cell_type": "markdown",
   "id": "604e4b35",
   "metadata": {},
   "source": [
    "## 2. df.columns\n",
    "- When you have a big dataset like that it can be hard to see all the columns. Using .columns function, you can print out all the columns of the dataset:"
   ]
  },
  {
   "cell_type": "code",
   "execution_count": null,
   "id": "90f235b3",
   "metadata": {},
   "outputs": [],
   "source": [
    "df.columns"
   ]
  },
  {
   "cell_type": "code",
   "execution_count": null,
   "id": "4792bbc8",
   "metadata": {},
   "outputs": [],
   "source": []
  },
  {
   "cell_type": "markdown",
   "id": "116b6c02",
   "metadata": {},
   "source": [
    "## 3. df.drop()\n",
    "\n",
    "- You can drop some unnecessary columns using df.drop(). In this dataset we have so many columns we are not going to use all of them for this tutorial. So, we can easily drop some:"
   ]
  },
  {
   "cell_type": "code",
   "execution_count": null,
   "id": "878b4e06",
   "metadata": {},
   "outputs": [],
   "source": [
    "df.drop(columns=['Unnamed: 0', 'weak_foot', 'real_face'])"
   ]
  },
  {
   "cell_type": "code",
   "execution_count": null,
   "id": "a338a0d0",
   "metadata": {},
   "outputs": [],
   "source": [
    "df"
   ]
  },
  {
   "cell_type": "code",
   "execution_count": null,
   "id": "4445e92c",
   "metadata": {},
   "outputs": [],
   "source": [
    "df.drop('Unnamed: 0', axis=1)"
   ]
  },
  {
   "cell_type": "code",
   "execution_count": null,
   "id": "e7792c19",
   "metadata": {},
   "outputs": [],
   "source": [
    "df"
   ]
  },
  {
   "cell_type": "code",
   "execution_count": null,
   "id": "0976a76e",
   "metadata": {},
   "outputs": [],
   "source": [
    "df.drop(0, axis=0)"
   ]
  },
  {
   "cell_type": "code",
   "execution_count": null,
   "id": "3c0ca627",
   "metadata": {},
   "outputs": [],
   "source": []
  },
  {
   "cell_type": "markdown",
   "id": "496346bc",
   "metadata": {},
   "source": [
    "## 4. .len()\n",
    "- Provides with the length of the DataFrame. Let’s see an example:"
   ]
  },
  {
   "cell_type": "code",
   "execution_count": null,
   "id": "ad5e66d2",
   "metadata": {},
   "outputs": [],
   "source": [
    "len(df)"
   ]
  },
  {
   "cell_type": "markdown",
   "id": "7e7471ec",
   "metadata": {},
   "source": [
    "This DataFrame has 16155 rows of data."
   ]
  },
  {
   "cell_type": "markdown",
   "id": "e291ffc4",
   "metadata": {},
   "source": [
    "## 5. df.query()\n",
    "\n",
    "- You can filter or query using a boolean expression. I will use ‘shooting’ and ‘passing’ columns for this example. Here I am checking for which rows ‘shooting’ is bigger than ‘passing’."
   ]
  },
  {
   "cell_type": "code",
   "execution_count": null,
   "id": "fa4ecd4a",
   "metadata": {},
   "outputs": [],
   "source": [
    "df.query(\"shooting > passing\")"
   ]
  },
  {
   "cell_type": "code",
   "execution_count": null,
   "id": "88821c0a",
   "metadata": {},
   "outputs": [],
   "source": [
    "df.query(\"shooting > passing\")[[\"short_name\",\"shooting\", \"passing\"]]"
   ]
  },
  {
   "cell_type": "code",
   "execution_count": null,
   "id": "4b6a9222",
   "metadata": {},
   "outputs": [],
   "source": [
    "df.query(\"age>30\")[['short_name', 'age']]"
   ]
  },
  {
   "cell_type": "markdown",
   "id": "f4f40eb1",
   "metadata": {},
   "source": [
    "This will return the rows only where the shooting is bigger than passing."
   ]
  },
  {
   "cell_type": "code",
   "execution_count": null,
   "id": "3b8f2cf3",
   "metadata": {},
   "outputs": [],
   "source": []
  },
  {
   "cell_type": "markdown",
   "id": "7754dfa4",
   "metadata": {},
   "source": [
    "## 6. df.iloc()\n",
    "\n",
    "- This function takes as a parameter the rows and column indices and gives you the subset of the DataFrame accordingly. Here I am taking the first 10 rows of data and index 5th to index 10th columns:"
   ]
  },
  {
   "cell_type": "code",
   "execution_count": null,
   "id": "f1ad061d",
   "metadata": {},
   "outputs": [],
   "source": [
    "df.iloc[2,4]"
   ]
  },
  {
   "cell_type": "code",
   "execution_count": null,
   "id": "6ad085cd",
   "metadata": {},
   "outputs": [],
   "source": [
    "df.iloc[2, [4,5]]"
   ]
  },
  {
   "cell_type": "code",
   "execution_count": null,
   "id": "a93cd7ff",
   "metadata": {},
   "outputs": [],
   "source": [
    "df.iloc[[2], [4,5]]"
   ]
  },
  {
   "cell_type": "code",
   "execution_count": null,
   "id": "22457a68",
   "metadata": {},
   "outputs": [],
   "source": [
    "df.iloc[[2,3],[4,5]]"
   ]
  },
  {
   "cell_type": "code",
   "execution_count": null,
   "id": "ebca2ae3",
   "metadata": {},
   "outputs": [],
   "source": [
    "df.iloc[:10, 5:10]"
   ]
  },
  {
   "cell_type": "code",
   "execution_count": null,
   "id": "124a0fe8",
   "metadata": {},
   "outputs": [],
   "source": []
  },
  {
   "cell_type": "markdown",
   "id": "5df90325",
   "metadata": {},
   "source": [
    "## 7. df.loc()\n",
    "\n",
    "- This function does almost the similar operation as .iloc() function. But here we can specify exactly which row index we want and also the name of the columns we want in our subset. Here is an example:"
   ]
  },
  {
   "cell_type": "code",
   "execution_count": null,
   "id": "0b826d0f",
   "metadata": {},
   "outputs": [],
   "source": [
    "df.loc[2,'long_name']"
   ]
  },
  {
   "cell_type": "code",
   "execution_count": null,
   "id": "25f42838",
   "metadata": {},
   "outputs": [],
   "source": [
    "df.loc[[2,3],['long_name','age']]"
   ]
  },
  {
   "cell_type": "code",
   "execution_count": null,
   "id": "202bb0b5",
   "metadata": {},
   "outputs": [],
   "source": [
    "df.loc[[3, 10, 14, 23], ['nationality', 'weight_kg', \"height_cm\"]]"
   ]
  },
  {
   "cell_type": "code",
   "execution_count": null,
   "id": "f8ee7f66",
   "metadata": {},
   "outputs": [],
   "source": [
    "df.loc[0:3, 'short_name':'age']"
   ]
  },
  {
   "cell_type": "markdown",
   "id": "4292c46c",
   "metadata": {},
   "source": [
    "Look at the row indices. We only have the 3rd, 10th, 14th, and 23rd rows. On the other hand, for columns, we only have the specified columns."
   ]
  },
  {
   "cell_type": "code",
   "execution_count": null,
   "id": "38bf1657",
   "metadata": {},
   "outputs": [],
   "source": []
  },
  {
   "cell_type": "markdown",
   "id": "cedfc60c",
   "metadata": {},
   "source": [
    "## 8. df[‘’].dtypes\n",
    "\n",
    "- Another very basic and widely used functions. Because it is necessary to know the data types of the variables before we dive into the analysis, visualization, or predictive modeling. I am getting the data type of the ‘height_cm’ column using .dtypes function here:"
   ]
  },
  {
   "cell_type": "code",
   "execution_count": null,
   "id": "a4e12008",
   "metadata": {},
   "outputs": [],
   "source": [
    "df.height_cm.dtypes"
   ]
  },
  {
   "cell_type": "code",
   "execution_count": null,
   "id": "01975404",
   "metadata": {},
   "outputs": [],
   "source": [
    "df.league_rank.dtypes"
   ]
  },
  {
   "cell_type": "code",
   "execution_count": null,
   "id": "6a55544e",
   "metadata": {},
   "outputs": [],
   "source": [
    "df.dob.dtypes"
   ]
  },
  {
   "cell_type": "code",
   "execution_count": null,
   "id": "2fc8577b",
   "metadata": {},
   "outputs": [],
   "source": [
    "df.dtypes"
   ]
  },
  {
   "cell_type": "code",
   "execution_count": null,
   "id": "4a623f12",
   "metadata": {},
   "outputs": [],
   "source": []
  },
  {
   "cell_type": "markdown",
   "id": "2c1ae76a",
   "metadata": {},
   "source": [
    "## 9. df.select_dtypes()\n",
    "\n",
    "- You can select the variables or columns of a certain data type using this function. For example, I want to select the columns with data types ‘int64’ only. Here is how to do that:"
   ]
  },
  {
   "cell_type": "code",
   "execution_count": null,
   "id": "88470c90",
   "metadata": {},
   "outputs": [],
   "source": [
    "df.select_dtypes(include='int64')"
   ]
  },
  {
   "cell_type": "markdown",
   "id": "1a9f5d24",
   "metadata": {},
   "source": [
    "We got all the columns that have the data type ‘int64’. If we use ‘exclude’ instead of ‘include’ in the ‘select_dtypes’ function, we will get the columns that do not have the data type ‘int64’:"
   ]
  },
  {
   "cell_type": "code",
   "execution_count": null,
   "id": "a0cd572b",
   "metadata": {
    "scrolled": true
   },
   "outputs": [],
   "source": [
    "df.select_dtypes(exclude='int64')"
   ]
  },
  {
   "cell_type": "markdown",
   "id": "64c900f3",
   "metadata": {},
   "source": [
    "Look, the variables are not integers. You may think that the ‘random_col’ column is integers. But if you check its data type, you will see that it looks integers but its data type is different. Please feel free to check."
   ]
  },
  {
   "cell_type": "code",
   "execution_count": null,
   "id": "9d0f85f4",
   "metadata": {},
   "outputs": [],
   "source": []
  },
  {
   "cell_type": "markdown",
   "id": "4a33026d",
   "metadata": {},
   "source": [
    "##  10. df.insert()\n",
    "\n",
    "- As the name of the function suggests, it inserts a column in the specified position. To demonstrate that I will first create an array of random numbers that have the length of our DataFrame:"
   ]
  },
  {
   "cell_type": "code",
   "execution_count": null,
   "id": "9f6994e7",
   "metadata": {},
   "outputs": [],
   "source": [
    "random_col = np.random.randint(100, size=len(df))"
   ]
  },
  {
   "cell_type": "markdown",
   "id": "c9f453fc",
   "metadata": {},
   "source": [
    "I will insert this array as a column in the DataFrame df at column 3 position. Remember, the column index starts from zero."
   ]
  },
  {
   "cell_type": "code",
   "execution_count": null,
   "id": "cb540127",
   "metadata": {},
   "outputs": [],
   "source": [
    "df.insert(3, 'random_col', random_col)"
   ]
  },
  {
   "cell_type": "code",
   "execution_count": null,
   "id": "e48981e2",
   "metadata": {},
   "outputs": [],
   "source": [
    "df"
   ]
  },
  {
   "cell_type": "markdown",
   "id": "b0faadde",
   "metadata": {},
   "source": [
    "Look, the column ‘random_col’ is inserted at position three."
   ]
  },
  {
   "cell_type": "code",
   "execution_count": null,
   "id": "458ebeba",
   "metadata": {},
   "outputs": [],
   "source": [
    "import numpy as np\n",
    "import pandas as pd\n",
    "pd.set_option('display.max_columns', 100)"
   ]
  },
  {
   "cell_type": "code",
   "execution_count": null,
   "id": "3292d210",
   "metadata": {},
   "outputs": [],
   "source": [
    "df = pd.read_csv(\"fifa.csv\")"
   ]
  },
  {
   "cell_type": "code",
   "execution_count": null,
   "id": "14097cd0",
   "metadata": {},
   "outputs": [],
   "source": []
  },
  {
   "cell_type": "markdown",
   "id": "1a9d90ee",
   "metadata": {},
   "source": [
    "## 11. df[''].cumsum()"
   ]
  },
  {
   "cell_type": "markdown",
   "id": "ebd236f4",
   "metadata": {},
   "source": [
    "- provides the **cumulative sum\n",
    "- in every row it provides the cumulative sum of all the values of the previous rows."
   ]
  },
  {
   "cell_type": "code",
   "execution_count": null,
   "id": "fe02411f",
   "metadata": {
    "scrolled": true
   },
   "outputs": [],
   "source": [
    "df_barcelona = df[df['club_name'] == 'FC Barcelona'][['short_name', 'joined', 'value_eur', 'wage_eur']].sort_values('joined')\n",
    "\n",
    "df_barcelona"
   ]
  },
  {
   "cell_type": "code",
   "execution_count": null,
   "id": "cac82e0b",
   "metadata": {},
   "outputs": [],
   "source": [
    "df_barcelona[['value_eur', 'wage_eur']].cumsum()"
   ]
  },
  {
   "cell_type": "code",
   "execution_count": null,
   "id": "c3920292",
   "metadata": {},
   "outputs": [],
   "source": [
    "df_barcelona[['tot_value', 'tot_wage']] = df_barcelona[['value_eur', 'wage_eur']].cumsum()\n",
    "df_barcelona"
   ]
  },
  {
   "cell_type": "markdown",
   "id": "5a837dd6",
   "metadata": {},
   "source": [
    "- we can use cumsum on cases changing by date like confirmed covid cases "
   ]
  },
  {
   "attachments": {
    "Screenshot%20from%202024-03-07%2018-44-06.png": {
     "image/png": "[encoded data removed]"
    }
   },
   "cell_type": "markdown",
   "id": "b8b4fcc8",
   "metadata": {},
   "source": [
    "![Screenshot%20from%202024-03-07%2018-44-06.png](attachment:Screenshot%20from%202024-03-07%2018-44-06.png)"
   ]
  },
  {
   "cell_type": "code",
   "execution_count": null,
   "id": "53903c24",
   "metadata": {},
   "outputs": [],
   "source": []
  },
  {
   "cell_type": "markdown",
   "id": "0295daf3",
   "metadata": {},
   "source": [
    "## 12. df.sample()"
   ]
  },
  {
   "cell_type": "markdown",
   "id": "ff472ea6",
   "metadata": {},
   "source": [
    "- takes a representative sample from the dataset\n"
   ]
  },
  {
   "cell_type": "markdown",
   "id": "5c8d38ba",
   "metadata": {},
   "source": [
    "- we can get a certain number of data points"
   ]
  },
  {
   "cell_type": "code",
   "execution_count": null,
   "id": "3ed66e02",
   "metadata": {},
   "outputs": [],
   "source": [
    "df.sample(n=10)"
   ]
  },
  {
   "cell_type": "markdown",
   "id": "647473ac",
   "metadata": {},
   "source": [
    "- we can get a fraction"
   ]
  },
  {
   "cell_type": "code",
   "execution_count": null,
   "id": "192e9585",
   "metadata": {},
   "outputs": [],
   "source": [
    "df.sample(frac = 0.01)"
   ]
  },
  {
   "cell_type": "code",
   "execution_count": null,
   "id": "2b37ff1e",
   "metadata": {},
   "outputs": [],
   "source": []
  },
  {
   "cell_type": "markdown",
   "id": "72a967e4",
   "metadata": {},
   "source": [
    "## 13. df[''].where()"
   ]
  },
  {
   "cell_type": "markdown",
   "id": "032f9ddf",
   "metadata": {},
   "source": [
    "- This function helps to query a dataset based on a **boolean condition."
   ]
  },
  {
   "cell_type": "code",
   "execution_count": null,
   "id": "2592ef68",
   "metadata": {},
   "outputs": [],
   "source": [
    "df_incompatible = df[(df['league_rank'] == 1) & (df['overall'] < 47)][['short_name', 'age', 'league_name', 'overall', 'potential']]\n",
    "df_incompatible"
   ]
  },
  {
   "cell_type": "markdown",
   "id": "382e7dd8",
   "metadata": {},
   "source": [
    "- Entries where `cond` is False are replaced with corresponding value from `other`."
   ]
  },
  {
   "cell_type": "code",
   "execution_count": null,
   "id": "4f607a63",
   "metadata": {},
   "outputs": [],
   "source": [
    "df_incompatible['overall'].where(df['overall'] > 45, 45, inplace=True)"
   ]
  },
  {
   "cell_type": "code",
   "execution_count": null,
   "id": "9ad69a82",
   "metadata": {},
   "outputs": [],
   "source": [
    "df_incompatible"
   ]
  },
  {
   "cell_type": "code",
   "execution_count": null,
   "id": "18317fc9",
   "metadata": {},
   "outputs": [],
   "source": []
  },
  {
   "cell_type": "markdown",
   "id": "b3177c7b",
   "metadata": {},
   "source": [
    "## 14. df[‘’].unique()"
   ]
  },
  {
   "cell_type": "markdown",
   "id": "ea2349d5",
   "metadata": {},
   "source": [
    "- used to find out the unique values of a **categorical column\n",
    "- Uniques are returned in order of appearance. \n",
    "- Data Frames has no unique attribute"
   ]
  },
  {
   "cell_type": "code",
   "execution_count": null,
   "id": "6e804bc1",
   "metadata": {
    "scrolled": false
   },
   "outputs": [],
   "source": [
    "df['league_name'].unique()"
   ]
  },
  {
   "cell_type": "code",
   "execution_count": null,
   "id": "d8114d69",
   "metadata": {},
   "outputs": [],
   "source": []
  },
  {
   "cell_type": "markdown",
   "id": "b3851bcf",
   "metadata": {},
   "source": [
    "## 15. df[''].nunique()"
   ]
  },
  {
   "cell_type": "markdown",
   "id": "2a0c2f23",
   "metadata": {},
   "source": [
    "- This function lets you know **how many** unique values do you have in a column. "
   ]
  },
  {
   "cell_type": "code",
   "execution_count": null,
   "id": "1164c12a",
   "metadata": {},
   "outputs": [],
   "source": [
    "df.nationality.nunique()"
   ]
  },
  {
   "cell_type": "code",
   "execution_count": null,
   "id": "fd15baf0",
   "metadata": {},
   "outputs": [],
   "source": [
    "df['league_name'].nunique()"
   ]
  },
  {
   "cell_type": "code",
   "execution_count": null,
   "id": "278bb7b0",
   "metadata": {},
   "outputs": [],
   "source": [
    "df[['league_name', 'club_name']].nunique()"
   ]
  },
  {
   "cell_type": "markdown",
   "id": "a0efb97b",
   "metadata": {},
   "source": [
    "- It can be used on the total dataset"
   ]
  },
  {
   "cell_type": "code",
   "execution_count": null,
   "id": "681e18e8",
   "metadata": {},
   "outputs": [],
   "source": [
    "df.nunique()"
   ]
  },
  {
   "cell_type": "code",
   "execution_count": null,
   "id": "874e3eea",
   "metadata": {},
   "outputs": [],
   "source": []
  },
  {
   "cell_type": "markdown",
   "id": "76f7eac4",
   "metadata": {},
   "source": [
    "## 16. df[‘’].rank()"
   ]
  },
  {
   "cell_type": "markdown",
   "id": "1e6f5d4b",
   "metadata": {},
   "source": [
    "- provides with the rank based on a certain column"
   ]
  },
  {
   "cell_type": "code",
   "execution_count": null,
   "id": "eb4bf50f",
   "metadata": {},
   "outputs": [],
   "source": [
    "df_rank = df[['short_name', 'overall', 'pace']]\n",
    "df_rank"
   ]
  },
  {
   "cell_type": "code",
   "execution_count": null,
   "id": "64574b03",
   "metadata": {},
   "outputs": [],
   "source": [
    "df_rank.rank()"
   ]
  },
  {
   "cell_type": "code",
   "execution_count": null,
   "id": "424dd880",
   "metadata": {},
   "outputs": [],
   "source": [
    "df_rank['rank'] = df_rank['pace'].rank(ascending=False)\n",
    "df_rank"
   ]
  },
  {
   "cell_type": "code",
   "execution_count": null,
   "id": "b8b56d29",
   "metadata": {},
   "outputs": [],
   "source": [
    "df_rank.sort_values('rank')"
   ]
  },
  {
   "cell_type": "code",
   "execution_count": null,
   "id": "2326c822",
   "metadata": {},
   "outputs": [],
   "source": []
  },
  {
   "cell_type": "markdown",
   "id": "e0e11284",
   "metadata": {},
   "source": [
    "## 17. .isin(values)"
   ]
  },
  {
   "cell_type": "markdown",
   "id": "e5e4b3de",
   "metadata": {},
   "source": [
    "- Whether each element in the DataFrame or Series is contained in values."
   ]
  },
  {
   "cell_type": "code",
   "execution_count": null,
   "id": "afa476b4",
   "metadata": {},
   "outputs": [],
   "source": [
    "nation_z = ['Zimbabwe', 'Zambia']\n",
    "df.nationality.isin(nation_z)"
   ]
  },
  {
   "cell_type": "code",
   "execution_count": null,
   "id": "6f3c96ec",
   "metadata": {},
   "outputs": [],
   "source": [
    "df[df.nationality.isin(nation_z)][['short_name', 'nationality', 'club_name']]"
   ]
  },
  {
   "cell_type": "code",
   "execution_count": null,
   "id": "6983ee91",
   "metadata": {},
   "outputs": [],
   "source": []
  },
  {
   "cell_type": "markdown",
   "id": "0a6c47b4",
   "metadata": {},
   "source": [
    "## 18. df.replace()"
   ]
  },
  {
   "cell_type": "markdown",
   "id": "e572fe44",
   "metadata": {},
   "source": [
    "- replaces a value with another"
   ]
  },
  {
   "cell_type": "code",
   "execution_count": null,
   "id": "9f12053b",
   "metadata": {},
   "outputs": [],
   "source": [
    "dflg = df[['league_name', 'league_rank']]\n",
    "dflg"
   ]
  },
  {
   "cell_type": "code",
   "execution_count": null,
   "id": "682ecf56",
   "metadata": {},
   "outputs": [],
   "source": [
    "dflg.replace(1.0, 1.1)"
   ]
  },
  {
   "cell_type": "code",
   "execution_count": null,
   "id": "398c0d71",
   "metadata": {},
   "outputs": [],
   "source": [
    "dflg.replace({1.0: 1.1, 2.0: 2.1, 3.0: 3.1, 4.0:4.1})"
   ]
  },
  {
   "cell_type": "code",
   "execution_count": null,
   "id": "6193a5af",
   "metadata": {},
   "outputs": [],
   "source": []
  },
  {
   "cell_type": "markdown",
   "id": "8142bfa3",
   "metadata": {},
   "source": [
    "## 19. df.rename()"
   ]
  },
  {
   "cell_type": "markdown",
   "id": "108e41f7",
   "metadata": {},
   "source": [
    "- Rename columns or index labels."
   ]
  },
  {
   "cell_type": "code",
   "execution_count": null,
   "id": "4cfafc29",
   "metadata": {},
   "outputs": [],
   "source": [
    "df10 = df[['short_name', 'club_name', 'league_name']]\n",
    "df10"
   ]
  },
  {
   "cell_type": "code",
   "execution_count": null,
   "id": "e59e7ef2",
   "metadata": {},
   "outputs": [],
   "source": [
    "df10.rename(columns = {'short_name':'NAME', 'club_name':'CLUB', 'league_name':'LEAGUE'}, index = {0:'x', 1:'y'})"
   ]
  },
  {
   "cell_type": "code",
   "execution_count": null,
   "id": "8de6818d",
   "metadata": {},
   "outputs": [],
   "source": []
  },
  {
   "cell_type": "markdown",
   "id": "e39647f3",
   "metadata": {},
   "source": [
    "## 20. .fillna()"
   ]
  },
  {
   "cell_type": "markdown",
   "id": "2eb56e8b",
   "metadata": {},
   "source": [
    "- Fill NaN values with a specified value"
   ]
  },
  {
   "cell_type": "code",
   "execution_count": null,
   "id": "b1d83404",
   "metadata": {},
   "outputs": [],
   "source": [
    "df11 = df[['short_name', 'dribbling', 'pace']]\n",
    "df11"
   ]
  },
  {
   "cell_type": "code",
   "execution_count": null,
   "id": "29a5ff85",
   "metadata": {},
   "outputs": [],
   "source": [
    "df11[['pace', 'dribbling']].fillna(0)"
   ]
  },
  {
   "cell_type": "code",
   "execution_count": null,
   "id": "513a78ac",
   "metadata": {},
   "outputs": [],
   "source": [
    "df11[['pace', 'dribbling']].fillna(method='ffill')"
   ]
  },
  {
   "cell_type": "code",
   "execution_count": null,
   "id": "23398185",
   "metadata": {},
   "outputs": [],
   "source": [
    "df11[['pace']].fillna(df11[['pace']].mean())"
   ]
  },
  {
   "cell_type": "code",
   "execution_count": null,
   "id": "48167e66",
   "metadata": {},
   "outputs": [],
   "source": []
  },
  {
   "cell_type": "markdown",
   "id": "f811eef9",
   "metadata": {},
   "source": [
    "## 21. df.groupby()\n",
    "\n",
    "This is the most popular function for data summarizing. You can group the data as per a certain variable and find out useful information about those groups. For example, here I am grouping the data by nationality and calculating the total ‘value_eur’ for each nationality:"
   ]
  },
  {
   "cell_type": "code",
   "execution_count": null,
   "id": "36c496b0",
   "metadata": {},
   "outputs": [],
   "source": [
    "df.groupby(\"nationality\")['value_eur'].sum()"
   ]
  },
  {
   "cell_type": "code",
   "execution_count": null,
   "id": "2c80f36b",
   "metadata": {},
   "outputs": [],
   "source": [
    "df.groupby(\"nationality\")[['value_eur']].sum()"
   ]
  },
  {
   "cell_type": "code",
   "execution_count": null,
   "id": "11d4a99f",
   "metadata": {},
   "outputs": [],
   "source": [
    "df.groupby(['nationality', 'league_rank'])[['value_eur', 'wage_eur']].agg([np.mean, np.median])\n"
   ]
  },
  {
   "cell_type": "code",
   "execution_count": null,
   "id": "57d6f454",
   "metadata": {},
   "outputs": [],
   "source": []
  },
  {
   "cell_type": "markdown",
   "id": "aa8fffd3",
   "metadata": {},
   "source": [
    "## 22. .pct_change()\n",
    "\n",
    "You can get the percent change from the previous value of a variable. For this demonstration, I will use the value_eur column and get the percent change from the previous for each row of data. The first row will be NaN because there is no value to compare before."
   ]
  },
  {
   "cell_type": "code",
   "execution_count": null,
   "id": "10d0a571-c621-4ea4-9ca4-9539253dfc91",
   "metadata": {
    "tags": []
   },
   "outputs": [],
   "source": [
    "df.value_eur"
   ]
  },
  {
   "cell_type": "code",
   "execution_count": null,
   "id": "9706f1bf",
   "metadata": {
    "tags": []
   },
   "outputs": [],
   "source": [
    "df.value_eur.pct_change()"
   ]
  },
  {
   "cell_type": "code",
   "execution_count": null,
   "id": "d481edda",
   "metadata": {},
   "outputs": [],
   "source": []
  },
  {
   "cell_type": "markdown",
   "id": "0bf6ceff-77ea-441c-b08e-126152d5e598",
   "metadata": {},
   "source": [
    "## 23. df.count()\n",
    "\n",
    "It provides you the number of data in the DataFrame in the specified direction. When the direction is 0, it provides the number of data in the columns:"
   ]
  },
  {
   "cell_type": "code",
   "execution_count": null,
   "id": "c066ee1c",
   "metadata": {
    "tags": []
   },
   "outputs": [],
   "source": [
    "df.count(0)"
   ]
  },
  {
   "cell_type": "markdown",
   "id": "362f7556-38d9-4bb6-bc92-bcdcaa232332",
   "metadata": {},
   "source": [
    "When the direction is 1, it provides the number of data in the rows:"
   ]
  },
  {
   "cell_type": "code",
   "execution_count": null,
   "id": "e7b17ecd",
   "metadata": {
    "tags": []
   },
   "outputs": [],
   "source": [
    "df.count(1)"
   ]
  },
  {
   "cell_type": "markdown",
   "id": "cd97a29a-2283-4005-9cf1-297326495b21",
   "metadata": {},
   "source": [
    "As you can see, each row does not have the same number of data. If you observe the dataset carefully, you will see that it has a lot of null values in several columns."
   ]
  },
  {
   "cell_type": "code",
   "execution_count": null,
   "id": "9226b3bd",
   "metadata": {},
   "outputs": [],
   "source": []
  },
  {
   "cell_type": "markdown",
   "id": "287b0b76-7334-4cc5-87ae-a289c1bbb461",
   "metadata": {},
   "source": [
    "## 24. df[‘’].value_counts()\n",
    "\n",
    "We can get the value counts of each category using this function. Here I am getting how many values are there in each league_rank."
   ]
  },
  {
   "cell_type": "code",
   "execution_count": null,
   "id": "f5045bb0",
   "metadata": {
    "tags": []
   },
   "outputs": [],
   "source": [
    "df['league_rank'].value_counts()"
   ]
  },
  {
   "cell_type": "code",
   "execution_count": null,
   "id": "760e1d43",
   "metadata": {
    "tags": []
   },
   "outputs": [],
   "source": [
    "df['league_rank'].value_counts(ascending=True)"
   ]
  },
  {
   "cell_type": "code",
   "execution_count": null,
   "id": "1a7835dd",
   "metadata": {},
   "outputs": [],
   "source": []
  },
  {
   "cell_type": "markdown",
   "id": "726b5bd3-940e-4263-8368-ee6fb10bcd12",
   "metadata": {},
   "source": [
    "## 25. pd.crosstab()\n",
    "\n",
    "It gives you a frequency table that is a cross-tabulation of two variables. I am making a cross-tabulation of league_rank and international_reputation here:"
   ]
  },
  {
   "cell_type": "code",
   "execution_count": null,
   "id": "77e79f5f",
   "metadata": {
    "tags": []
   },
   "outputs": [],
   "source": [
    "pd.crosstab(df['league_rank'], df['international_reputation'])"
   ]
  },
  {
   "cell_type": "markdown",
   "id": "d0e2cf15-4706-4aa4-8b4a-9a3d026d89b8",
   "metadata": {},
   "source": [
    "So, we got the number count of all the combinations of league_rank and international_reputation. We can see that the majority of players have international_reputation and league_rank both 1.\n",
    "\n",
    "It can be improved further. We can add margins in both directions that will be the total and also we can get the normalized values if necessary:"
   ]
  },
  {
   "cell_type": "code",
   "execution_count": null,
   "id": "8af62c9b",
   "metadata": {
    "tags": []
   },
   "outputs": [],
   "source": [
    "pd.crosstab(df['league_rank'], df['international_reputation'], \n",
    "            margins = True,\n",
    "            margins_name=\"Total\",\n",
    "            normalize = True)"
   ]
  },
  {
   "cell_type": "code",
   "execution_count": null,
   "id": "ec7ec3cd",
   "metadata": {},
   "outputs": [],
   "source": []
  },
  {
   "cell_type": "markdown",
   "id": "6808ff26-7f58-434e-85ee-9488c4cb2172",
   "metadata": {
    "tags": []
   },
   "source": [
    "## 26. pd.qcut()\n",
    "\n",
    "This function bins the data or segments the data based on the distribution of the data. So, we get the range for each player. Here I am going to segment the value_eur in 5 portions and get which player falls in which portion:\n"
   ]
  },
  {
   "cell_type": "code",
   "execution_count": null,
   "id": "218fc5b2-562f-430b-8731-e37ce92dcfbe",
   "metadata": {
    "tags": []
   },
   "outputs": [],
   "source": [
    "pd.qcut([0,1,2,3,4], q=4)"
   ]
  },
  {
   "cell_type": "code",
   "execution_count": null,
   "id": "92747021-c689-458a-a5a5-8c04800f3e02",
   "metadata": {
    "tags": []
   },
   "outputs": [],
   "source": [
    "pd.qcut([0,1,2,3,4], q = 4).value_counts()"
   ]
  },
  {
   "cell_type": "code",
   "execution_count": null,
   "id": "262712a5",
   "metadata": {
    "tags": []
   },
   "outputs": [],
   "source": [
    "pd.qcut(df['value_eur'], q = 5)"
   ]
  },
  {
   "cell_type": "markdown",
   "id": "f88285bd-dca9-40ae-8d00-f4bcb039eb45",
   "metadata": {
    "tags": []
   },
   "source": [
    "You can use the value_counts on the above line of code to see how players fall in which range:"
   ]
  },
  {
   "cell_type": "code",
   "execution_count": null,
   "id": "95f0a059",
   "metadata": {
    "tags": []
   },
   "outputs": [],
   "source": [
    "pd.qcut(df['value_eur'], q = 5).value_counts()"
   ]
  },
  {
   "cell_type": "markdown",
   "id": "15e3e331-3b74-4db5-86d1-3c960e76303c",
   "metadata": {},
   "source": [
    "As you can see the numbers are pretty close. By default, qcut tries to divide them equally. But in real life, it doesn’t want to be equal always. Because the distribution is not uniform most of the time."
   ]
  },
  {
   "cell_type": "code",
   "execution_count": null,
   "id": "17c2e148",
   "metadata": {},
   "outputs": [],
   "source": []
  },
  {
   "cell_type": "markdown",
   "id": "2f239f8e-174b-4638-ba2d-ffd4e73d7094",
   "metadata": {},
   "source": [
    "## 27. pd.cut()\n",
    "\n",
    "Another method for binning. If we want to make 5 bins using cut, it will divide the entire value_eur range into equal five portions and the population in each bin will follow accordingly."
   ]
  },
  {
   "cell_type": "code",
   "execution_count": null,
   "id": "7875d8c6-8136-43bb-9d0b-d3785f0b1254",
   "metadata": {
    "tags": []
   },
   "outputs": [],
   "source": [
    "pd.cut([0,1,2,3,4], bins=4)"
   ]
  },
  {
   "cell_type": "code",
   "execution_count": null,
   "id": "b2a4ad8c-7fc9-4550-9c28-51c1a99afba7",
   "metadata": {
    "tags": []
   },
   "outputs": [],
   "source": [
    "pd.cut([0,1,2,3,4], bins=4).value_counts()"
   ]
  },
  {
   "cell_type": "code",
   "execution_count": null,
   "id": "3ad7d706",
   "metadata": {
    "tags": []
   },
   "outputs": [],
   "source": [
    "pd.cut(df['value_eur'], bins = 5).value_counts()"
   ]
  },
  {
   "cell_type": "markdown",
   "id": "7ea5daac-214e-4659-81f8-4d5798895b7b",
   "metadata": {},
   "source": [
    "The interval in each range is equal. But the population in each group is very different."
   ]
  },
  {
   "cell_type": "code",
   "execution_count": null,
   "id": "8701f21a",
   "metadata": {},
   "outputs": [],
   "source": []
  },
  {
   "cell_type": "markdown",
   "id": "b88104ae-4de0-4206-a5f1-970e7df6b2a6",
   "metadata": {},
   "source": [
    "\n",
    "## 28. df[‘’].describe()\n",
    "\n",
    "This is a great function that provides some basic statistical measures. Here I am using the describe function on the wage_eur column:"
   ]
  },
  {
   "cell_type": "code",
   "execution_count": null,
   "id": "1566948d-c077-421f-bacd-fe31482b292b",
   "metadata": {
    "tags": []
   },
   "outputs": [],
   "source": [
    "df['wage_eur'].describe()"
   ]
  },
  {
   "cell_type": "code",
   "execution_count": null,
   "id": "83a6d7d1",
   "metadata": {},
   "outputs": [],
   "source": []
  },
  {
   "cell_type": "markdown",
   "id": "d4f5726a-1fa9-4755-9d38-35ea0bee4203",
   "metadata": {},
   "source": [
    "## 29. nlargest and nsmallest\n",
    "\n",
    "This gives you the dataset with n number of largest values or smallest values of a specified variable. As an example, I wanted to get the rows with the top 5 wage_eur:"
   ]
  },
  {
   "cell_type": "code",
   "execution_count": null,
   "id": "298df678-0f05-4d83-98ae-205e17144adb",
   "metadata": {
    "tags": []
   },
   "outputs": [],
   "source": [
    "df.nlargest(5, \"wage_eur\")"
   ]
  },
  {
   "cell_type": "code",
   "execution_count": null,
   "id": "c6121526-a096-447d-b2aa-e71876d4accc",
   "metadata": {
    "tags": []
   },
   "outputs": [],
   "source": [
    "df.nlargest(5, \"wage_eur\")[['wage_eur', 'short_name']]"
   ]
  },
  {
   "cell_type": "code",
   "execution_count": null,
   "id": "8aab22f2-c7a9-477c-9d81-11a43f3dac2a",
   "metadata": {
    "tags": []
   },
   "outputs": [],
   "source": [
    "df.nsmallest(5, \"wage_eur\")[['wage_eur', 'short_name']]"
   ]
  },
  {
   "cell_type": "code",
   "execution_count": null,
   "id": "7c16aa97",
   "metadata": {},
   "outputs": [],
   "source": []
  },
  {
   "cell_type": "markdown",
   "id": "49d32b9a-0d89-4bdc-80a7-4b7f35ccb231",
   "metadata": {},
   "source": [
    "## 30. df.explode()\n",
    "\n",
    "Explode can be useful when you have a list of data in some rows. It is hard to analyze, visualize or perform some predictive modeling when you have integers in some columns and lists in some columns. Explode helps to break down those lists. For example, look at this DataFrame:"
   ]
  },
  {
   "cell_type": "code",
   "execution_count": null,
   "id": "d3c537bb-55bd-4786-a1cb-077b9866de73",
   "metadata": {
    "tags": []
   },
   "outputs": [],
   "source": [
    "df1 = pd.DataFrame({\"city\": ['A', 'B', 'C'],\n",
    "                   \"day1\": [22, 25, 21],\n",
    "                   'day2':[31, 12, 67],\n",
    "                   'day3': [27, 20, 15],\n",
    "                   'day4': [34, 37, [41, 45, 67, 90, 21]],\n",
    "                   'day5': [23, 54, 36]})\n",
    "df1"
   ]
  },
  {
   "cell_type": "code",
   "execution_count": null,
   "id": "238da5db-ca04-4697-8d19-ae9c73d4b75a",
   "metadata": {
    "tags": []
   },
   "outputs": [],
   "source": [
    "df1.explode('day4').reset_index(drop=True)"
   ]
  },
  {
   "cell_type": "code",
   "execution_count": null,
   "id": "77218c0f-d873-4e12-91f9-8d80e6c5dcfc",
   "metadata": {},
   "outputs": [],
   "source": []
  }
 ],
 "metadata": {
  "kernelspec": {
   "display_name": "Python 3 (ipykernel)",
   "language": "python",
   "name": "python3"
  },
  "language_info": {
   "codemirror_mode": {
    "name": "ipython",
    "version": 3
   },
   "file_extension": ".py",
   "mimetype": "text/x-python",
   "name": "python",
   "nbconvert_exporter": "python",
   "pygments_lexer": "ipython3",
   "version": "3.11.5"
  }
 },
 "nbformat": 4,
 "nbformat_minor": 5
}
